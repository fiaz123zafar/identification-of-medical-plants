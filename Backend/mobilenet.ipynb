{
 "cells": [
  {
   "cell_type": "code",
   "execution_count": 32,
   "metadata": {},
   "outputs": [],
   "source": [
    "import numpy as np\n",
    "import pandas as pd\n",
    "import matplotlib.pyplot as plt\n",
    "import cv2\n",
    "import os, glob\n",
    "import tensorflow as tf\n",
    "from tqdm import tqdm\n",
    "from PIL import Image\n",
    "from keras.utils.np_utils import to_categorical\n",
    "from keras.models import Model, Sequential, Input, load_model\n",
    "from keras.layers import Dense, Dropout, Flatten, Conv2D, MaxPool2D, BatchNormalization, GlobalAveragePooling2D,Activation\n",
    "from tensorflow.keras.optimizers import Adam\n",
    "from keras.preprocessing.image import ImageDataGenerator"
   ]
  },
  {
   "cell_type": "code",
   "execution_count": 33,
   "metadata": {},
   "outputs": [],
   "source": [
    "train_dir=r\"D:/PROJECTS/2022-2023/November/Business/Medicinalplants/app/Data/\""
   ]
  },
  {
   "cell_type": "code",
   "execution_count": 34,
   "metadata": {},
   "outputs": [],
   "source": [
    "img_height,img_width=128,128\n",
    "batch_size=32"
   ]
  },
  {
   "cell_type": "code",
   "execution_count": 35,
   "metadata": {},
   "outputs": [
    {
     "name": "stdout",
     "output_type": "stream",
     "text": [
      "Found 2294 images belonging to 10 classes.\n",
      "Found 978 images belonging to 10 classes.\n"
     ]
    }
   ],
   "source": [
    "train_datagen = ImageDataGenerator(rescale=1./255,validation_split=0.3)\n",
    "train_generator = train_datagen.flow_from_directory(train_dir,\n",
    "                                                target_size=(img_height,img_width),\n",
    "                                                batch_size=batch_size,                                            \n",
    "                                                class_mode='categorical',\n",
    "                                                    subset='training')\n",
    "test_generator = train_datagen.flow_from_directory(train_dir,\n",
    "                                                target_size=(img_height,img_width),\n",
    "                                                batch_size=batch_size,\n",
    "                                                class_mode='categorical',\n",
    "                                                  subset='validation')"
   ]
  },
  {
   "cell_type": "code",
   "execution_count": 36,
   "metadata": {},
   "outputs": [
    {
     "name": "stdout",
     "output_type": "stream",
     "text": [
      "float32\n"
     ]
    }
   ],
   "source": [
    "print(train_generator.dtype)"
   ]
  },
  {
   "cell_type": "code",
   "execution_count": 37,
   "metadata": {},
   "outputs": [
    {
     "name": "stdout",
     "output_type": "stream",
     "text": [
      "Model: \"sequential_5\"\n",
      "_________________________________________________________________\n",
      "Layer (type)                 Output Shape              Param #   \n",
      "=================================================================\n",
      "mobilenet_1.00_128 (Function (None, 4, 4, 1024)        3228864   \n",
      "_________________________________________________________________\n",
      "global_average_pooling2d_5 ( (None, 1024)              0         \n",
      "_________________________________________________________________\n",
      "dense_10 (Dense)             (None, 64)                65600     \n",
      "_________________________________________________________________\n",
      "batch_normalization_5 (Batch (None, 64)                256       \n",
      "_________________________________________________________________\n",
      "dropout_5 (Dropout)          (None, 64)                0         \n",
      "_________________________________________________________________\n",
      "dense_11 (Dense)             (None, 10)                650       \n",
      "=================================================================\n",
      "Total params: 3,295,370\n",
      "Trainable params: 3,273,354\n",
      "Non-trainable params: 22,016\n",
      "_________________________________________________________________\n"
     ]
    }
   ],
   "source": [
    "base_model = tf.keras.applications.MobileNet(input_shape=(img_height,img_width, 3), include_top=False,\n",
    "                          weights='imagenet')\n",
    "model1 = Sequential()\n",
    "model1.add(base_model)\n",
    "model1.add(GlobalAveragePooling2D())\n",
    "model1.add(Dense(64, activation='relu'))\n",
    "model1.add(BatchNormalization())\n",
    "model1.add(Dropout(0.2))\n",
    "model1.add(Dense(10, activation='sigmoid'))\n",
    "model1.summary()"
   ]
  },
  {
   "cell_type": "code",
   "execution_count": 38,
   "metadata": {},
   "outputs": [
    {
     "name": "stdout",
     "output_type": "stream",
     "text": [
      "Epoch 1/10\n",
      "72/72 [==============================] - 129s 2s/step - loss: 0.1833 - accuracy: 0.9507 - val_loss: 1.9369 - val_accuracy: 0.6166\n",
      "Epoch 2/10\n",
      "72/72 [==============================] - 103s 1s/step - loss: 0.0186 - accuracy: 0.9974 - val_loss: 0.1501 - val_accuracy: 0.9519\n",
      "Epoch 3/10\n",
      "72/72 [==============================] - 104s 1s/step - loss: 0.0196 - accuracy: 0.9956 - val_loss: 0.6656 - val_accuracy: 0.7904\n",
      "Epoch 4/10\n",
      "72/72 [==============================] - 103s 1s/step - loss: 0.0082 - accuracy: 0.9996 - val_loss: 0.1587 - val_accuracy: 0.9652\n",
      "Epoch 5/10\n",
      "72/72 [==============================] - 103s 1s/step - loss: 0.0121 - accuracy: 0.9974 - val_loss: 0.5306 - val_accuracy: 0.8661\n",
      "Epoch 6/10\n",
      "72/72 [==============================] - 108s 1s/step - loss: 0.0422 - accuracy: 0.9874 - val_loss: 0.8774 - val_accuracy: 0.7751\n",
      "Epoch 7/10\n",
      "72/72 [==============================] - 119s 2s/step - loss: 0.0546 - accuracy: 0.9852 - val_loss: 0.7648 - val_accuracy: 0.8272\n",
      "Epoch 8/10\n",
      "72/72 [==============================] - 105s 1s/step - loss: 0.0190 - accuracy: 0.9943 - val_loss: 0.4698 - val_accuracy: 0.8671\n",
      "Epoch 9/10\n",
      "72/72 [==============================] - 105s 1s/step - loss: 0.0122 - accuracy: 0.9969 - val_loss: 0.1397 - val_accuracy: 0.9693\n",
      "Epoch 10/10\n",
      "72/72 [==============================] - 111s 2s/step - loss: 0.0030 - accuracy: 1.0000 - val_loss: 0.1606 - val_accuracy: 0.9642\n"
     ]
    }
   ],
   "source": [
    "model1.compile(optimizer='Adam',loss=\"categorical_crossentropy\",metrics=[\"accuracy\"])\n",
    "hist1=model1.fit_generator(train_generator,epochs=10,validation_data=test_generator,verbose=1)\n",
    "model1.save(\"models/Mobilenet.h5\")"
   ]
  },
  {
   "cell_type": "code",
   "execution_count": null,
   "metadata": {},
   "outputs": [],
   "source": []
  }
 ],
 "metadata": {
  "kernelspec": {
   "display_name": "Python 3",
   "language": "python",
   "name": "python3"
  },
  "language_info": {
   "codemirror_mode": {
    "name": "ipython",
    "version": 3
   },
   "file_extension": ".py",
   "mimetype": "text/x-python",
   "name": "python",
   "nbconvert_exporter": "python",
   "pygments_lexer": "ipython3",
   "version": "3.6.8"
  },
  "vscode": {
   "interpreter": {
    "hash": "f4e9cda46bb2d9d7fe6ecdff0f8336a934348bf06cb492f2f42f60739b3403b4"
   }
  }
 },
 "nbformat": 4,
 "nbformat_minor": 2
}
